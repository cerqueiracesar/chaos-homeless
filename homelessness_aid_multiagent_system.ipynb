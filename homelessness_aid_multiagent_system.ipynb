{
  "nbformat": 4,
  "nbformat_minor": 0,
  "metadata": {
    "colab": {
      "provenance": []
    },
    "kernelspec": {
      "name": "python3",
      "display_name": "Python 3"
    },
    "language_info": {
      "name": "python"
    }
  },
  "cells": [
    {
      "cell_type": "code",
      "source": [
        "%pip -q install google-genai"
      ],
      "metadata": {
        "id": "UCCbECexLk_h"
      },
      "execution_count": 1,
      "outputs": []
    },
    {
      "cell_type": "code",
      "source": [
        "# Configura a API Key do Google Gemini\n",
        "\n",
        "import os\n",
        "from google.colab import userdata\n",
        "\n",
        "os.environ[\"GOOGLE_API_KEY\"] = userdata.get('GOOGLE_API_KEY')"
      ],
      "metadata": {
        "id": "NfCqHo1tLk8P"
      },
      "execution_count": 2,
      "outputs": []
    },
    {
      "cell_type": "code",
      "source": [
        "# Configura o cliente da SDK do Gemini\n",
        "\n",
        "from google import genai\n",
        "\n",
        "client = genai.Client()\n",
        "\n",
        "MODEL_ID = \"gemini-2.0-flash\""
      ],
      "metadata": {
        "id": "bV4w0H5TLk5g"
      },
      "execution_count": 3,
      "outputs": []
    },
    {
      "cell_type": "code",
      "source": [
        "# Instalar Framework ADK de agentes do Google ################################################\n",
        "!pip install -q google-adk"
      ],
      "metadata": {
        "id": "hvZ3UnPI4jhJ",
        "colab": {
          "base_uri": "https://localhost:8080/"
        },
        "outputId": "72d15b53-ddb5-4336-da20-991e394c4dc0"
      },
      "execution_count": 6,
      "outputs": [
        {
          "output_type": "stream",
          "name": "stdout",
          "text": [
            "\u001b[?25l   \u001b[90m━━━━━━━━━━━━━━━━━━━━━━━━━━━━━━━━━━━━━━━━\u001b[0m \u001b[32m0.0/1.2 MB\u001b[0m \u001b[31m?\u001b[0m eta \u001b[36m-:--:--\u001b[0m\r\u001b[2K   \u001b[91m━━━━━━━━━━━━━━━━━━━━━━━━━━━━━━━━━━━━━━━\u001b[0m\u001b[91m╸\u001b[0m \u001b[32m1.2/1.2 MB\u001b[0m \u001b[31m59.5 MB/s\u001b[0m eta \u001b[36m0:00:01\u001b[0m\r\u001b[2K   \u001b[90m━━━━━━━━━━━━━━━━━━━━━━━━━━━━━━━━━━━━━━━━\u001b[0m \u001b[32m1.2/1.2 MB\u001b[0m \u001b[31m33.2 MB/s\u001b[0m eta \u001b[36m0:00:00\u001b[0m\n",
            "\u001b[?25h\u001b[?25l   \u001b[90m━━━━━━━━━━━━━━━━━━━━━━━━━━━━━━━━━━━━━━━━\u001b[0m \u001b[32m0.0/232.1 kB\u001b[0m \u001b[31m?\u001b[0m eta \u001b[36m-:--:--\u001b[0m\r\u001b[2K   \u001b[90m━━━━━━━━━━━━━━━━━━━━━━━━━━━━━━━━━━━━━━━━\u001b[0m \u001b[32m232.1/232.1 kB\u001b[0m \u001b[31m19.1 MB/s\u001b[0m eta \u001b[36m0:00:00\u001b[0m\n",
            "\u001b[2K   \u001b[90m━━━━━━━━━━━━━━━━━━━━━━━━━━━━━━━━━━━━━━━━\u001b[0m \u001b[32m95.2/95.2 kB\u001b[0m \u001b[31m7.5 MB/s\u001b[0m eta \u001b[36m0:00:00\u001b[0m\n",
            "\u001b[2K   \u001b[90m━━━━━━━━━━━━━━━━━━━━━━━━━━━━━━━━━━━━━━━━\u001b[0m \u001b[32m217.1/217.1 kB\u001b[0m \u001b[31m17.1 MB/s\u001b[0m eta \u001b[36m0:00:00\u001b[0m\n",
            "\u001b[2K   \u001b[90m━━━━━━━━━━━━━━━━━━━━━━━━━━━━━━━━━━━━━━━━\u001b[0m \u001b[32m334.1/334.1 kB\u001b[0m \u001b[31m25.9 MB/s\u001b[0m eta \u001b[36m0:00:00\u001b[0m\n",
            "\u001b[2K   \u001b[90m━━━━━━━━━━━━━━━━━━━━━━━━━━━━━━━━━━━━━━━━\u001b[0m \u001b[32m125.1/125.1 kB\u001b[0m \u001b[31m10.5 MB/s\u001b[0m eta \u001b[36m0:00:00\u001b[0m\n",
            "\u001b[2K   \u001b[90m━━━━━━━━━━━━━━━━━━━━━━━━━━━━━━━━━━━━━━━━\u001b[0m \u001b[32m65.8/65.8 kB\u001b[0m \u001b[31m6.2 MB/s\u001b[0m eta \u001b[36m0:00:00\u001b[0m\n",
            "\u001b[2K   \u001b[90m━━━━━━━━━━━━━━━━━━━━━━━━━━━━━━━━━━━━━━━━\u001b[0m \u001b[32m119.0/119.0 kB\u001b[0m \u001b[31m11.3 MB/s\u001b[0m eta \u001b[36m0:00:00\u001b[0m\n",
            "\u001b[2K   \u001b[90m━━━━━━━━━━━━━━━━━━━━━━━━━━━━━━━━━━━━━━━━\u001b[0m \u001b[32m194.9/194.9 kB\u001b[0m \u001b[31m15.5 MB/s\u001b[0m eta \u001b[36m0:00:00\u001b[0m\n",
            "\u001b[2K   \u001b[90m━━━━━━━━━━━━━━━━━━━━━━━━━━━━━━━━━━━━━━━━\u001b[0m \u001b[32m62.5/62.5 kB\u001b[0m \u001b[31m5.2 MB/s\u001b[0m eta \u001b[36m0:00:00\u001b[0m\n",
            "\u001b[2K   \u001b[90m━━━━━━━━━━━━━━━━━━━━━━━━━━━━━━━━━━━━━━━━\u001b[0m \u001b[32m103.3/103.3 kB\u001b[0m \u001b[31m10.1 MB/s\u001b[0m eta \u001b[36m0:00:00\u001b[0m\n",
            "\u001b[2K   \u001b[90m━━━━━━━━━━━━━━━━━━━━━━━━━━━━━━━━━━━━━━━━\u001b[0m \u001b[32m44.4/44.4 kB\u001b[0m \u001b[31m3.8 MB/s\u001b[0m eta \u001b[36m0:00:00\u001b[0m\n",
            "\u001b[2K   \u001b[90m━━━━━━━━━━━━━━━━━━━━━━━━━━━━━━━━━━━━━━━━\u001b[0m \u001b[32m72.0/72.0 kB\u001b[0m \u001b[31m6.4 MB/s\u001b[0m eta \u001b[36m0:00:00\u001b[0m\n",
            "\u001b[?25h"
          ]
        }
      ]
    },
    {
      "cell_type": "code",
      "execution_count": 7,
      "metadata": {
        "id": "aePV2bdfDeoW"
      },
      "outputs": [],
      "source": [
        "from google.adk.agents import Agent\n",
        "from google.adk.runners import Runner\n",
        "from google.adk.sessions import InMemorySessionService\n",
        "from google.adk.tools import google_search\n",
        "from google.genai import types  # Para criar conteúdos (Content e Part)\n",
        "from datetime import date\n",
        "import textwrap # Para formatar melhor a saída de texto\n",
        "from IPython.display import display, Markdown # Para exibir texto formatado no Colab\n",
        "import requests # Para fazer requisições HTTP\n",
        "import warnings\n",
        "\n",
        "warnings.filterwarnings(\"ignore\")"
      ]
    },
    {
      "cell_type": "code",
      "source": [
        "# Função auxiliar que envia uma mensagem para um agente via Runner e retorna a resposta final\n",
        "def call_agent(agent: Agent, message_text: str) -> str:\n",
        "    # Cria um serviço de sessão em memória\n",
        "    session_service = InMemorySessionService()\n",
        "    # Cria uma nova sessão (você pode personalizar os IDs conforme necessário)\n",
        "    session = session_service.create_session(app_name=agent.name, user_id=\"user1\", session_id=\"session1\")\n",
        "    # Cria um Runner para o agente\n",
        "    runner = Runner(agent=agent, app_name=agent.name, session_service=session_service)\n",
        "    # Cria o conteúdo da mensagem de entrada\n",
        "    content = types.Content(role=\"user\", parts=[types.Part(text=message_text)])\n",
        "\n",
        "    final_response = \"\"\n",
        "    # Itera assincronamente pelos eventos retornados durante a execução do agente\n",
        "    for event in runner.run(user_id=\"user1\", session_id=\"session1\", new_message=content):\n",
        "        if event.is_final_response():\n",
        "          for part in event.content.parts:\n",
        "            if part.text is not None:\n",
        "              final_response += part.text\n",
        "              final_response += \"\\n\"\n",
        "    return final_response"
      ],
      "metadata": {
        "id": "_xP4lWhsS5ko"
      },
      "execution_count": 8,
      "outputs": []
    },
    {
      "cell_type": "code",
      "source": [
        "# Função auxiliar para exibir texto formatado em Markdown no Colab\n",
        "def to_markdown(text):\n",
        "  text = text.replace('•', '  *')\n",
        "  return Markdown(textwrap.indent(text, '> ', predicate=lambda _: True))"
      ],
      "metadata": {
        "id": "8dosiodaxfFR"
      },
      "execution_count": 9,
      "outputs": []
    },
    {
      "cell_type": "code",
      "source": [
        "##########################################\n",
        "# --- Agente 1: Mapeador de Recursos --- #\n",
        "##########################################\n",
        "def agente_mapeamento_recursos():\n",
        "    mapeador = Agent(\n",
        "        name=\"agente_mapeamento_recursos\",\n",
        "        model=\"gemini-2.0-flash\", # Ou um modelo mais robusto se precisar de mais raciocínio\n",
        "        instruction=\"\"\"\n",
        "        Você é um Agente de Mapeamento e Recursos. Sua tarefa é coletar, verificar e manter atualizadas informações\n",
        "        sobre abrigos, locais de alimentação (refeitórios, sopas), postos de saúde, centros de assistência social (CRAS/CREAS),\n",
        "        locais de banho público, lavanderias comunitárias e oportunidades de emprego para pessoas em situação de rua.\n",
        "        Utilize a ferramenta Google Search (@google_search) para encontrar informações em sites de prefeituras, ONGs e outras organizações.\n",
        "        Seja meticuloso para garantir a precisão dos dados (endereço, horário, requisitos de acesso, contato, vagas se possível).\n",
        "        Retorne as informações de forma estruturada, listando o nome do recurso, tipo, endereço, horário e contato.\n",
        "        Neste formato:\n",
        "        [\n",
        "          {\n",
        "            \"nome\": \"Abrigo Esperança\",\n",
        "            \"tipo\": \"abrigo\",\n",
        "            \"endereço\": \"Rua X, 123 - Bairro Y\",\n",
        "            \"horário\": \"24h\",\n",
        "            \"contato\": \"(11) 99999-0000\"\n",
        "          },\n",
        "          ...\n",
        "        ]\n",
        "        \"\"\",\n",
        "        description=\"Agente que mapeia e atualiza recursos para pessoas em situação de rua.\",\n",
        "        tools=[google_search] # Pode ser necessário adicionar ferramentas para interagir com um DB no futuro\n",
        "    )\n",
        "    # A entrada para este agente pode ser 'Buscar abrigos em [localidade]' ou 'Atualizar dados de [tipo de recurso]'\n",
        "    # A saída deve ser um formato estruturado (lista de dicionários, JSON)\n",
        "    # return call_agent(mapeador, \"Busque os 5 principais abrigos em São Paulo com vagas.\")\n",
        "    return mapeador # Retorna o objeto do agente para ser usado em outras chamadas\n"
      ],
      "metadata": {
        "id": "o8bqIfi_DyH8"
      },
      "execution_count": 12,
      "outputs": []
    },
    {
      "cell_type": "code",
      "source": [
        "################################################\n",
        "# --- Agente 2: Interação de Necessidades --- #\n",
        "################################################\n",
        "def agente_interacao_necessidades():\n",
        "    interacao = Agent(\n",
        "        name=\"agente_interacao_necessidades\",\n",
        "        model=\"gemini-2.0-flash\",\n",
        "        instruction=\"\"\"\n",
        "        Você é um Agente de Interação e Necessidades para pessoas em situação de rua. Sua função é acolher o usuário e perguntar sobre sua necessidade imediata (ex: 'Preciso de abrigo', 'Estou com fome', 'Estou doente'). Faça perguntas claras e diretas para entender a situação:\n",
        "        - Você está sozinho(a)?\n",
        "        - Qual sua localização atual?\n",
        "        - Precisa de algo específico?\n",
        "        Ao final da conversa, retorne os dados estruturados no seguinte formato:\n",
        "        {\n",
        "          \"necessidade\": \"descrição curta da necessidade\",\n",
        "          \"localizacao\": \"localização fornecida ou 'não informada'\"\n",
        "        }\n",
        "        \"\"\",\n",
        "        description=\"Agente que interage com o usuário para entender suas necessidades.\",\n",
        "        # Não necessariamente precisa de ferramentas aqui, a menos que ele precise de busca simples para entender termos.\n",
        "    )\n",
        "    # A entrada para este agente será a mensagem direta do usuário (ex: \"Estou com muito frio e não tenho onde dormir\")\n",
        "    # return call_agent(interacao, \"Estou com muito frio e não tenho onde dormir.\")\n",
        "    return interacao"
      ],
      "metadata": {
        "id": "y3VO1uo5_ghO"
      },
      "execution_count": 15,
      "outputs": []
    },
    {
      "cell_type": "code",
      "source": [
        "######################################\n",
        "# --- Agente 3: Recomendador/Encaminhamento --- #\n",
        "######################################\n",
        "def agente_recomendacao_encaminhamento():\n",
        "    recomendador = Agent(\n",
        "        name=\"agente_recomendacao_encaminhamento\",\n",
        "        model=\"gemini-2.5-pro-preview-03-25\", # Pode precisar de um modelo mais potente para raciocínio complexo\n",
        "        instruction=\"\"\"\n",
        "        Você é um Agente de Recomendação e Encaminhamento. Sua função é receber uma necessidade identificada de um usuário (ex: tipo de recurso\n",
        "        e localização) e consultar o Agente de Mapeamento e Recursos (AMR) para encontrar as melhores opções disponíveis.\n",
        "        Priorize recomendações por:\n",
        "        - Proximidade geográfica com o usuário\n",
        "        - Relevância da necessidade\n",
        "        - Condições específicas como disponibilidade (ex: vagas)\n",
        "        Retorne uma lista de até 3 recursos no seguinte formato:\n",
        "        [\n",
        "          {\n",
        "            \"nome\": \"Nome do local\",\n",
        "            \"tipo\": \"abrigo / refeição / posto de saúde / etc.\",\n",
        "            \"endereco\": \"Endereço completo\",\n",
        "            \"horario\": \"Horário de funcionamento\",\n",
        "            \"rota\": \"Como chegar a pé ou de ônibus, se possível\",\n",
        "            \"telefone\": \"Telefone de contato\"\n",
        "          }\n",
        "        ]\n",
        "        Se nenhuma opção for encontrada, responda com: \"No momento, não encontramos recursos disponíveis para essa necessidade na região informada.\n",
        "        \"\"\",\n",
        "        description=\"Agente que recomenda recursos com base nas necessidades do usuário e dados mapeados.\",\n",
        "        # Ele precisará de uma forma de \"chamar\" ou \"consultar\" o AMR.\n",
        "        # Isso pode ser feito integrando a função do AMR aqui ou passando a informação.\n",
        "        # Por simplicidade inicial, a informação do AMR pode ser passada como parte da entrada.\n",
        "        tools=[google_search] # Pode ser útil para rotas ou detalhes adicionais\n",
        "    )\n",
        "    # A entrada para este agente seria algo como:\n",
        "    # entrada = f\"Necessidade do usuário: {necessidade_do_ain}\\nRecursos disponíveis: {dados_do_amr}\"\n",
        "    # return call_agent(recomendador, entrada)\n",
        "    return recomendador"
      ],
      "metadata": {
        "id": "uOqlg2TRLVh1"
      },
      "execution_count": 16,
      "outputs": []
    },
    {
      "cell_type": "code",
      "source": [
        "##########################################\n",
        "# --- Agente 4: Alertas e Clima --- #\n",
        "##########################################\n",
        "def agente_alertas_clima():\n",
        "    alertas = Agent(\n",
        "        name=\"agente_alertas_clima\",\n",
        "        model=\"gemini-2.5-pro-preview-03-25\",\n",
        "        instruction=\"\"\"\n",
        "        Você é um Agente de Alertas e Clima.\n",
        "\n",
        "        Sua função é monitorar proativamente:\n",
        "        - Condições climáticas severas (frio/calor extremos, chuvas intensas)\n",
        "        - Alertas de saúde pública (vacinações, surtos)\n",
        "        - Eventos emergenciais (distribuição de alimentos, cobertores, mutirões)\n",
        "\n",
        "        Quando alguma dessas condições for detectada, gere um alerta claro e conciso com:\n",
        "        - Tipo de alerta\n",
        "        - Descrição do evento\n",
        "        - Data e região afetada\n",
        "        - Ação recomendada (ex: \"Procure abrigo\", \"Vacinação disponível no CRAS X\")\n",
        "\n",
        "        Retorne o alerta em formato estruturado:\n",
        "        {\n",
        "          \"tipo_alerta\": \"Frio extremo\",\n",
        "          \"descricao\": \"...\",\n",
        "          \"recomendacao\": \"...\",\n",
        "          \"data_hora\": \"...\",\n",
        "          \"regiao_afetada\": \"...\"\n",
        "        }\n",
        "        Se nenhuma condição crítica estiver presente, apenas diga: \"Sem alertas no momento.\n",
        "        \"\"\",\n",
        "        description=\"Agente que monitora e emite alertas proativos sobre clima e eventos.\",\n",
        "        tools=[google_search] # Para buscar informações de clima/notícias de saúde pública\n",
        "        # Poderia integrar APIs de clima diretamente aqui.\n",
        "    )\n",
        "    # A entrada para este agente poderia ser uma trigger baseada em tempo (a cada X horas)\n",
        "    # return call_agent(alertas, f\"Verifique alertas para hoje ({date.today().strftime('%d/%m/%Y')}).\")\n",
        "    return alertas"
      ],
      "metadata": {
        "id": "_aTb1SdkLeT6"
      },
      "execution_count": 17,
      "outputs": []
    },
    {
      "cell_type": "code",
      "source": [
        "import json\n",
        "from datetime import date\n",
        "\n",
        "data_de_hoje = date.today().strftime(\"%d/%m/%Y\")\n",
        "\n",
        "print(\"🚀 Iniciando o Sistema de Apoio a Pessoas em Situação de Rua com 4 Agentes 🚀\")\n",
        "\n",
        "# --- Instancia os Agentes ---\n",
        "amr = agente_mapeamento_recursos()\n",
        "ain = agente_interacao_necessidades()\n",
        "are = agente_recomendacao_encaminhamento()\n",
        "aac = agente_alertas_clima()\n",
        "\n",
        "# --- Interação com o Usuário ---\n",
        "necessidade_usuario_raw = input(\"❓ Olá! Em que posso te ajudar hoje? \")\n",
        "\n",
        "if not necessidade_usuario_raw:\n",
        "    print(\"⚠️ Por favor, digite sua necessidade.\")\n",
        "else:\n",
        "    print(f\"Entendido! Você precisa de ajuda com: {necessidade_usuario_raw}\")\n",
        "\n",
        "    # --- 1. AIN: Interpreta a necessidade ---\n",
        "    print(\"\\n--- 🗣️ Agente de Interação e Necessidades (AIN) ---\")\n",
        "    try:\n",
        "        resposta_ain = call_agent(ain, necessidade_usuario_raw + \" Por favor, responda em JSON.\")\n",
        "        necessidade_identificada = json.loads(resposta_ain)\n",
        "        display(to_markdown(resposta_ain))\n",
        "    except json.JSONDecodeError:\n",
        "        print(\"❌ Erro ao interpretar a resposta do AIN.\")\n",
        "        necessidade_identificada = {}\n",
        "\n",
        "    # --- 2. AMR: Busca recursos disponíveis ---\n",
        "    print(\"\\n--- 🗺️ Agente de Mapeamento e Recursos (AMR) ---\")\n",
        "    try:\n",
        "        resposta_amr = call_agent(amr, \"Liste os principais recursos de abrigo e alimentação. Retorne em JSON.\")\n",
        "        recursos_gerais = json.loads(resposta_amr)\n",
        "        display(to_markdown(resposta_amr))\n",
        "    except json.JSONDecodeError:\n",
        "        print(\"❌ Erro ao interpretar a resposta do AMR.\")\n",
        "        recursos_gerais = []\n",
        "\n",
        "    # --- 3. AAC: Verifica alertas ---\n",
        "    print(\"\\n--- 🚨 Agente de Alertas e Clima (AAC) ---\")\n",
        "    try:\n",
        "        resposta_aac = call_agent(aac, f\"Verifique alertas para {data_de_hoje}. Retorne em JSON.\")\n",
        "        alerta_atual = json.loads(resposta_aac)\n",
        "        display(to_markdown(resposta_aac))\n",
        "    except json.JSONDecodeError:\n",
        "        print(\"❌ Erro ao interpretar a resposta do AAC.\")\n",
        "        alerta_atual = {}\n",
        "\n",
        "    # --- 4. ARE: Recomendação final ---\n",
        "    print(\"\\n--- 🎯 Agente de Recomendação e Encaminhamento (ARE) ---\")\n",
        "    entrada_para_are = {\n",
        "        \"necessidade\": necessidade_identificada,\n",
        "        \"recursos\": recursos_gerais,\n",
        "        \"alertas\": alerta_atual\n",
        "    }\n",
        "\n",
        "    try:\n",
        "        resposta_are = call_agent(are, json.dumps(entrada_para_are))\n",
        "        recomendacoes_finais = json.loads(resposta_are)\n",
        "        display(to_markdown(resposta_are))\n",
        "    except json.JSONDecodeError:\n",
        "        print(\"❌ Erro ao interpretar a resposta do ARE.\")\n",
        "        recomendacoes_finais = {}\n",
        "\n",
        "    print(\"\\n✅ Processo de recomendação finalizado!\")\n"
      ],
      "metadata": {
        "id": "630ummxz4myx"
      },
      "execution_count": null,
      "outputs": []
    },
    {
      "cell_type": "code",
      "source": [],
      "metadata": {
        "id": "Zifep7mXHNsr"
      },
      "execution_count": null,
      "outputs": []
    },
    {
      "cell_type": "code",
      "source": [
        "# Exibe a busca\n",
        "print(f\"Busca realizada: {response.candidates[0].grounding_metadata.web_search_queries}\")\n",
        "# Exibe as URLs nas quais ele se baseou\n",
        "print(f\"Páginas utilizadas na resposta: {', '.join([site.web.title for site in response.candidates[0].grounding_metadata.grounding_chunks])}\")\n",
        "print()\n",
        "display(HTML(response.candidates[0].grounding_metadata.search_entry_point.rendered_content))"
      ],
      "metadata": {
        "id": "xHSNlTd84heJ"
      },
      "execution_count": null,
      "outputs": []
    }
  ]
}